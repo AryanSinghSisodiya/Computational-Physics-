{
 "cells": [
  {
   "cell_type": "markdown",
   "id": "f12b8150-200a-4e78-a373-377dee13dd1e",
   "metadata": {},
   "source": [
    "<h1> Hartree Method </h1>"
   ]
  },
  {
   "cell_type": "code",
   "execution_count": 23,
   "id": "22ca5c68-b4f2-409c-b6d5-d0cc0d594d5b",
   "metadata": {},
   "outputs": [],
   "source": [
    "N = 4\n",
    "c = 1/(N**0.5)\n",
    "a = [0.298073,1.242567,5.782948,38.474970]\n",
    "c_t = [ c, c, c, c]\n"
   ]
  },
  {
   "cell_type": "code",
   "execution_count": 24,
   "id": "cb8c9960-d7e4-406d-ad0d-6e5fc7d86ab7",
   "metadata": {},
   "outputs": [],
   "source": [
    "import numpy as np \n",
    "import matplotlib.pyplot as plt \n",
    "import math \n",
    "from scipy.linalg import eigh"
   ]
  },
  {
   "cell_type": "code",
   "execution_count": 25,
   "id": "3a46ef48-24db-4610-bc63-acd5662a0e71",
   "metadata": {},
   "outputs": [],
   "source": [
    "def S_Matrix(i, j):\n",
    "    return (np.pi/(a[i]+a[j]))**(3/2)\n",
    "\n",
    "def T_Matrix(i, j):\n",
    "    num = 3*a[i]*a[j]*(np.pi)**(3/2)\n",
    "    den = (a[i]+a[j])**(5/2)\n",
    "    return num/den\n",
    "\n",
    "def A_Matrix(i, j):\n",
    "    return -4*(np.pi/(a[i]+a[j]))\n",
    "\n",
    "def Q(i,j,m,n):\n",
    "    num = 2*(np.pi)**(5/2)\n",
    "    den = (a[i]+a[j])*(a[m]+a[n])*(a[i]+a[j]+a[m]+a[n])**(0.5)\n",
    "    return num/den  "
   ]
  },
  {
   "cell_type": "code",
   "execution_count": 31,
   "id": "24c09af9-5682-40ef-ab28-073acdf2ef8b",
   "metadata": {},
   "outputs": [],
   "source": [
    "S = [[S_Matrix(i, j) for j in range(4)] for i in range(4)]\n",
    "T = [[T_Matrix(i, j) for j in range(4)] for i in range(4)]\n",
    "A = [[A_Matrix(i, j) for j in range(4)] for i in range(4)]\n",
    "Q = [[[[Q(i, j,m,n) for n in range(4)] for m in range(4)]for j in range(4)]for i in range(4)]\n",
    "Q_matrix = np.zeros((N, N),dtype= int)"
   ]
  },
  {
   "cell_type": "code",
   "execution_count": 32,
   "id": "8248c842-532a-4ed9-812e-0853299d547a",
   "metadata": {},
   "outputs": [],
   "source": [
    "for i in range(4):\n",
    "    for j in range(4):\n",
    "        sum = 0.0\n",
    "        for m in range(4):\n",
    "            for n in range(4):\n",
    "                sum += c_t[m]*c_t[n]*Q[i][j][m][n]\n",
    "        Q_matrix[i][j] = sum "
   ]
  },
  {
   "cell_type": "code",
   "execution_count": 33,
   "id": "8bbf213c-41d2-4243-acb0-ebbd5e9114b2",
   "metadata": {},
   "outputs": [
    {
     "data": {
      "text/plain": [
       "array([[43, 13,  2,  0],\n",
       "       [13,  7,  1,  0],\n",
       "       [ 2,  1,  0,  0],\n",
       "       [ 0,  0,  0,  0]])"
      ]
     },
     "execution_count": 33,
     "metadata": {},
     "output_type": "execute_result"
    }
   ],
   "source": [
    "Q_matrix"
   ]
  },
  {
   "cell_type": "code",
   "execution_count": 37,
   "id": "eae26205-2cd6-4fc1-932b-cc43b6691d30",
   "metadata": {},
   "outputs": [],
   "source": [
    "r = np.zeros((N, N),dtype= int)\n",
    "\n",
    "for i in range(len(T)):\n",
    "    for j in range(len(T[0])):\n",
    "        r[i][j] = T[i][j] + A[i][j]"
   ]
  },
  {
   "cell_type": "code",
   "execution_count": 38,
   "id": "0d0f493e-c548-420e-92d8-a14f1b21f56e",
   "metadata": {},
   "outputs": [],
   "source": [
    "H = np.zeros((N, N),dtype= int)\n",
    "\n",
    "for i in range(len(r)):\n",
    "    for j in range(len(r[0])):\n",
    "        H[i][j] = r[i][j] + Q_matrix[i][j]"
   ]
  },
  {
   "cell_type": "code",
   "execution_count": 39,
   "id": "81890429-e5fc-44c2-8df5-6302b9637345",
   "metadata": {},
   "outputs": [
    {
     "data": {
      "text/plain": [
       "array([[28,  7,  1,  0],\n",
       "       [ 7,  5,  1,  0],\n",
       "       [ 1,  1,  0,  0],\n",
       "       [ 0,  0,  0,  0]])"
      ]
     },
     "execution_count": 39,
     "metadata": {},
     "output_type": "execute_result"
    }
   ],
   "source": [
    "H"
   ]
  },
  {
   "cell_type": "code",
   "execution_count": null,
   "id": "16632a47-b0d2-4155-a0e5-c2753a04b630",
   "metadata": {},
   "outputs": [],
   "source": []
  }
 ],
 "metadata": {
  "kernelspec": {
   "display_name": "Python 3 (ipykernel)",
   "language": "python",
   "name": "python3"
  },
  "language_info": {
   "codemirror_mode": {
    "name": "ipython",
    "version": 3
   },
   "file_extension": ".py",
   "mimetype": "text/x-python",
   "name": "python",
   "nbconvert_exporter": "python",
   "pygments_lexer": "ipython3",
   "version": "3.11.5"
  }
 },
 "nbformat": 4,
 "nbformat_minor": 5
}
