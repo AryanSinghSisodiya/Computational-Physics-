{
 "cells": [
  {
   "cell_type": "code",
   "execution_count": 1,
   "id": "4ef49fd0-7426-4fe8-a277-dac8d7e6e8ed",
   "metadata": {},
   "outputs": [],
   "source": [
    "import numpy as np\n",
    "import matplotlib.pyplot as plt\n",
    "import random "
   ]
  },
  {
   "cell_type": "code",
   "execution_count": null,
   "id": "5e13fa15-f745-4cb6-9189-abf3d793e499",
   "metadata": {},
   "outputs": [],
   "source": [
    "n = 10000\n",
    "x = np.zeros(n)\n",
    "def fun(x):\n",
    "    return np.exp(-x**2/2)\n",
    "count = 0\n",
    "h = 2.8\n",
    "\n",
    "x[0] = random.uniform(0,1)\n",
    "for i in range(n-1):\n",
    "    delta_x = 0 \n",
    "    eta = random.random()\n",
    "    delta_x = h*(2*eta-1)\n",
    "    xt = x[i] + delta_x\n",
    "    omega = fun(xt)/fun(x[i])\n",
    "    beta = random.random()\n",
    "    if(omega>beta):\n",
    "        x[i+1] = xt\n",
    "        count += 1\n",
    "    else:\n",
    "        x[i+1] =x[i]\n",
    "\n",
    "Acceptance_ratio = count/ n\n",
    "print(Acceptance_ratio)"
   ]
  },
  {
   "cell_type": "code",
   "execution_count": null,
   "id": "da6c4f50-d2df-4965-9f50-50cac5eaf1b7",
   "metadata": {},
   "outputs": [],
   "source": [
    "x_val = np.linspace(-4.08,3.56,100)\n",
    "y_val = fun(x_val)\n",
    "hist, bins = np.histogram(x, bins=50, density=True)\n",
    "bin_centers = (bins[1:] + bins[:-1]) / 2\n",
    "widths = bins[1:] - bins[:-1]\n",
    "scaling_factor = np.max(fun(bin_centers)) / np.max(hist)\n",
    "plt.bar(bin_centers, hist * scaling_factor, width=widths, color='skyblue', edgecolor='black')\n",
    "\n",
    "\n",
    "plt.plot(x_val,y_val , color= 'red', label = 'Gaussian')\n",
    "plt.grid(True)\n",
    "plt.show()"
   ]
  },
  {
   "cell_type": "code",
   "execution_count": null,
   "id": "06b579ee-4991-49ca-8639-0362a0fbcf76",
   "metadata": {},
   "outputs": [],
   "source": []
  }
 ],
 "metadata": {
  "kernelspec": {
   "display_name": "Python 3 (ipykernel)",
   "language": "python",
   "name": "python3"
  },
  "language_info": {
   "codemirror_mode": {
    "name": "ipython",
    "version": 3
   },
   "file_extension": ".py",
   "mimetype": "text/x-python",
   "name": "python",
   "nbconvert_exporter": "python",
   "pygments_lexer": "ipython3",
   "version": "3.11.5"
  }
 },
 "nbformat": 4,
 "nbformat_minor": 5
}
