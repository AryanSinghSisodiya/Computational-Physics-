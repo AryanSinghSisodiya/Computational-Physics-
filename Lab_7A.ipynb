{
 "cells": [
  {
   "cell_type": "code",
   "execution_count": 1,
   "id": "a13fc1e8-fee9-41b7-9f19-7ce3a3a4ce06",
   "metadata": {},
   "outputs": [],
   "source": [
    "import numpy as np \n",
    "import matplotlib.pyplot as plt"
   ]
  },
  {
   "cell_type": "code",
   "execution_count": 2,
   "id": "5115ae56-7a8c-404d-b5a1-a2ee2d41beef",
   "metadata": {},
   "outputs": [],
   "source": [
    "h=0.01"
   ]
  },
  {
   "cell_type": "code",
   "execution_count": 6,
   "id": "bcfb46b0-6746-4bab-a205-fc7b3918f643",
   "metadata": {},
   "outputs": [],
   "source": [
    "XY = [[(i, j) for j in range (1, 11)] for i in range(1, 11)]\n",
    "V = np.zeros((10, 10, 2))\n",
    "# print(XY)"
   ]
  },
  {
   "cell_type": "code",
   "execution_count": 15,
   "id": "d538de00-b72e-41c7-a7d9-604f3a09c673",
   "metadata": {},
   "outputs": [
    {
     "name": "stdout",
     "output_type": "stream",
     "text": [
      "(-21.32762631292636, 0.2975296636895369)\n"
     ]
    }
   ],
   "source": [
    "\n",
    "def f(i,j, xy):\n",
    "    XY = xy\n",
    "    r = 0 \n",
    "    F_x = 0\n",
    "    F_y = 0\n",
    "    for m in range(10):\n",
    "        for n in range(10):\n",
    "            r = np.sqrt((XY[i][j][0]-XY[m][n][0])**2+(XY[i][j][1]-XY[m][n][1])**2)\n",
    "            if(r!=0):\n",
    "                F_x += 24*(2*r**(-14)-r**(-8))*(XY[i][j][0]-XY[m][n][0])\n",
    "                F_y += 24*(2*r**(-14)-r**(-8))*(XY[i][j][1]-XY[m][n][1])\n",
    "    return F_x,F_y"
   ]
  },
  {
   "cell_type": "code",
   "execution_count": 19,
   "id": "a9f26210-9b68-46f8-ba8e-3d550695513e",
   "metadata": {},
   "outputs": [
    {
     "ename": "KeyboardInterrupt",
     "evalue": "",
     "output_type": "error",
     "traceback": [
      "\u001b[1;31m---------------------------------------------------------------------------\u001b[0m",
      "\u001b[1;31mKeyboardInterrupt\u001b[0m                         Traceback (most recent call last)",
      "Cell \u001b[1;32mIn[19], line 15\u001b[0m\n\u001b[0;32m     13\u001b[0m \u001b[38;5;28;01mfor\u001b[39;00m i \u001b[38;5;129;01min\u001b[39;00m \u001b[38;5;28mrange\u001b[39m(\u001b[38;5;241m10\u001b[39m):\n\u001b[0;32m     14\u001b[0m     \u001b[38;5;28;01mfor\u001b[39;00m j \u001b[38;5;129;01min\u001b[39;00m \u001b[38;5;28mrange\u001b[39m(\u001b[38;5;241m10\u001b[39m):\n\u001b[1;32m---> 15\u001b[0m         temp_arr[i][j][\u001b[38;5;241m0\u001b[39m] \u001b[38;5;241m=\u001b[39m \u001b[38;5;241m2\u001b[39m \u001b[38;5;241m*\u001b[39m XY1[i][j][\u001b[38;5;241m0\u001b[39m] \u001b[38;5;241m-\u001b[39m XY[i][j][\u001b[38;5;241m0\u001b[39m] \u001b[38;5;241m+\u001b[39m h\u001b[38;5;241m*\u001b[39mh\u001b[38;5;241m*\u001b[39mf(i,j,XY)[\u001b[38;5;241m0\u001b[39m]\n\u001b[0;32m     16\u001b[0m         temp_arr[i][j][\u001b[38;5;241m1\u001b[39m] \u001b[38;5;241m=\u001b[39m \u001b[38;5;241m2\u001b[39m \u001b[38;5;241m*\u001b[39m XY1[i][j][\u001b[38;5;241m1\u001b[39m] \u001b[38;5;241m-\u001b[39m XY[i][j][\u001b[38;5;241m1\u001b[39m] \u001b[38;5;241m+\u001b[39m h\u001b[38;5;241m*\u001b[39mh\u001b[38;5;241m*\u001b[39mf(i,j,XY)[\u001b[38;5;241m1\u001b[39m]\n\u001b[0;32m     18\u001b[0m         V[i][j][\u001b[38;5;241m0\u001b[39m] \u001b[38;5;241m=\u001b[39m (temp_arr[i][j][\u001b[38;5;241m0\u001b[39m] \u001b[38;5;241m-\u001b[39m XY[i][j][\u001b[38;5;241m0\u001b[39m]) \u001b[38;5;241m*\u001b[39m \u001b[38;5;241m0.5\u001b[39m \u001b[38;5;241m/\u001b[39m h\n",
      "Cell \u001b[1;32mIn[15], line 12\u001b[0m, in \u001b[0;36mf\u001b[1;34m(i, j, xy)\u001b[0m\n\u001b[0;32m     10\u001b[0m \u001b[38;5;28;01mfor\u001b[39;00m m \u001b[38;5;129;01min\u001b[39;00m \u001b[38;5;28mrange\u001b[39m(\u001b[38;5;241m10\u001b[39m):\n\u001b[0;32m     11\u001b[0m     \u001b[38;5;28;01mfor\u001b[39;00m n \u001b[38;5;129;01min\u001b[39;00m \u001b[38;5;28mrange\u001b[39m(\u001b[38;5;241m10\u001b[39m):\n\u001b[1;32m---> 12\u001b[0m         r \u001b[38;5;241m=\u001b[39m np\u001b[38;5;241m.\u001b[39msqrt((XY[i][j][\u001b[38;5;241m0\u001b[39m]\u001b[38;5;241m-\u001b[39mXY[m][n][\u001b[38;5;241m0\u001b[39m])\u001b[38;5;241m*\u001b[39m\u001b[38;5;241m*\u001b[39m\u001b[38;5;241m2\u001b[39m\u001b[38;5;241m+\u001b[39m(XY[i][j][\u001b[38;5;241m1\u001b[39m]\u001b[38;5;241m-\u001b[39mXY[m][n][\u001b[38;5;241m1\u001b[39m])\u001b[38;5;241m*\u001b[39m\u001b[38;5;241m*\u001b[39m\u001b[38;5;241m2\u001b[39m)\n\u001b[0;32m     13\u001b[0m         \u001b[38;5;66;03m# r2 = np.sqrt((XY[i][j][0]-X[m][n][0])**2+(XY[i][j][1]-XY[m][n][1])**2)\u001b[39;00m\n\u001b[0;32m     14\u001b[0m         \u001b[38;5;28;01mif\u001b[39;00m(r\u001b[38;5;241m!=\u001b[39m\u001b[38;5;241m0\u001b[39m):\n",
      "\u001b[1;31mKeyboardInterrupt\u001b[0m: "
     ]
    }
   ],
   "source": [
    "XY1= np.zeros((10,10,2))\n",
    "\n",
    "for i in range(10):\n",
    "    for j in range(10):\n",
    "        XY1[i][j][0] = XY[i][j][0] + h * V[i][j][0] + 0.5* h**2 *f(i,j,XY)[0]\n",
    "        XY1[i][j][1] = XY[i][j][1] + h * V[i][j][1] + 0.5* h**2 *f(i,j,XY)[1]\n",
    "\n",
    "timestamps = np.arange(0, 4, h)     \n",
    "Temperature = []\n",
    "for time in timestamps:\n",
    "    temp_arr = np.zeros((10, 10, 2))\n",
    "    v_sum = 0\n",
    "    for i in range(10):\n",
    "        for j in range(10):\n",
    "            temp_arr[i][j][0] = 2 * XY1[i][j][0] - XY[i][j][0] + h*h*f(i,j,XY)[0]\n",
    "            temp_arr[i][j][1] = 2 * XY1[i][j][1] - XY[i][j][1] + h*h*f(i,j,XY)[1]\n",
    "            \n",
    "            V[i][j][0] = (temp_arr[i][j][0] - XY[i][j][0]) * 0.5 / h\n",
    "            V[i][j][1] = (temp_arr[i][j][1] - XY[i][j][1]) * 0.5 / h\n",
    "            v_sum +=np.sqrt(V[i][j][0]**2 + V[i][j][1]**2)\n",
    "   \n",
    "    Temperature.append(v_sum / (3*99))\n",
    "    XY = XY1\n",
    "    XY1 = temp_arr\n",
    "   \n",
    "\n",
    "plt.plot(timestamps, Temperature)\n",
    "plt.show()"
   ]
  },
  {
   "cell_type": "code",
   "execution_count": null,
   "id": "44c26ef1-18c0-4bbd-8dc2-ad32be371460",
   "metadata": {},
   "outputs": [],
   "source": [
    "import numpy as np \n",
    "import matplotlib.pyplot as plt\n",
    "\n",
    "h = 0.01\n",
    "XY = [[(i, j) for j in range(1, 11)] for i in range(1, 11)]\n",
    "V = np.zeros((10, 10, 2))\n",
    "\n",
    "def Fx(X, Y):\n",
    "    Fx = 0\n",
    "    for i in range(10):\n",
    "        for j in range(10):\n",
    "            if not np.array_equal(Y, X[i][j]):\n",
    "                r = np.sqrt((Y[0] - X[i][j][0])**2 + (Y[1] - X[i][j][1])**2)\n",
    "                F = 24 * (2 * r**(-14) - r**(-8)) * (Y[0] - X[i][j][0])\n",
    "                Fx += F\n",
    "    return Fx\n",
    "\n",
    "def Fy(X, Y):\n",
    "    Fy = 0\n",
    "    for i in range(10):\n",
    "        for j in range(10):\n",
    "            if not np.array_equal(Y, X[i][j]):\n",
    "                r = np.sqrt((Y[0] - X[i][j][0])**2 + (Y[1] - X[i][j][1])**2)\n",
    "                F = 24 * (2 * r**(-14) - r**(-8)) * (Y[1] - X[i][j][1])\n",
    "                Fy += F\n",
    "    return Fy\n",
    "\n",
    "XY1 = np.zeros((10, 10, 2))\n",
    "timestamps = np.arange(0, 4, h)     \n",
    "Temperature = []\n",
    "\n",
    "for time in timestamps:\n",
    "    temp_arr = np.zeros((10, 10, 2))\n",
    "    v_sum = 0\n",
    "    for i in range(10):\n",
    "        for j in range(10):\n",
    "            FX = Fx(XY, XY[i][j])\n",
    "            FY = Fy(XY, XY[i][j])\n",
    "            temp_arr[i][j][0] = 2 * XY1[i][j][0] - XY[i][j][0] + h * h * FX\n",
    "            temp_arr[i][j][1] = 2 * XY1[i][j][1] - XY[i][j][1] + h * h * FY\n",
    "            \n",
    "            V[i][j][0] = (temp_arr[i][j][0] - XY[i][j][0]) * 0.5 / h\n",
    "            V[i][j][1] = (temp_arr[i][j][1] - XY[i][j][1]) * 0.5 / h\n",
    "            v_sum += np.sqrt(V[i][j][0]**2 + V[i][j][1]**2)\n",
    "   \n",
    "    Temperature.append(v_sum / (3*99))\n",
    "    XY = XY1\n",
    "    XY1 = temp_arr\n",
    "\n",
    "plt.plot(timestamps, Temperature)\n",
    "plt.xlabel('Time')\n",
    "plt.ylabel('Temperature')\n",
    "plt.title('Temperature Over Time')\n",
    "plt.show()\n"
   ]
  },
  {
   "cell_type": "code",
   "execution_count": null,
   "id": "2763462b-7211-46ec-8f93-e90bc4393cf3",
   "metadata": {},
   "outputs": [],
   "source": []
  }
 ],
 "metadata": {
  "kernelspec": {
   "display_name": "Python 3 (ipykernel)",
   "language": "python",
   "name": "python3"
  },
  "language_info": {
   "codemirror_mode": {
    "name": "ipython",
    "version": 3
   },
   "file_extension": ".py",
   "mimetype": "text/x-python",
   "name": "python",
   "nbconvert_exporter": "python",
   "pygments_lexer": "ipython3",
   "version": "3.11.5"
  }
 },
 "nbformat": 4,
 "nbformat_minor": 5
}
